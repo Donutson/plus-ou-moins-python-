{
 "cells": [
  {
   "cell_type": "markdown",
   "metadata": {},
   "source": [
    "# Plus ou moins: comparaisons des solutions\n"
   ]
  },
  {
   "cell_type": "markdown",
   "metadata": {},
   "source": [
    " Nous allons voir ici quel méthode est la meilleure pour jouer au plus ou moins\n",
    "    1. La méthode naïve qui consiste à faire des propositions de façon aléatoire\n",
    "       entre des mins et max qu'on aura déterminer avec l'avancée du jeu\n",
    "    2. La méthode dichotomique qui consist à faire des propositions en suivant \n",
    "        le principe de la dichotomie"
   ]
  },
  {
   "cell_type": "code",
   "execution_count": 1,
   "metadata": {},
   "outputs": [],
   "source": [
    "#on recupere le jeu ainsi que les programmes qui vont y jouer\n",
    "from game import *\n",
    "import dichotomy, randoms\n",
    "\n",
    "#pour pouvoir représenter graphiquement les victoires \n",
    "%matplotlib inline\n",
    "import matplotlib.pyplot as plt\n",
    "import numpy as np\n",
    "\n",
    "#on recupere les programmes qui joueront\n",
    "programmes = [dichotomy.pmdichotomie, randoms.pmrandom]\n",
    "\n",
    "#nombre de programme jouant\n",
    "n = len(programmes)\n",
    "\n",
    "#tables de victoires et pertes pour chaque programme\n",
    "#les tables interieures sont respectivement les tables des victoires et perte des porgraammes:\n",
    "    #pmdichotomie\n",
    "    #pmrandom\n",
    "#une victoire correspond à 1 et une perte à 0\n",
    "report = []\n",
    "for i in range(n):\n",
    "    report.append([])\n",
    "\n",
    "#pour recuperer le gagnant d'une partie\n",
    "gagnant = 0\n",
    "\n"
   ]
  },
  {
   "cell_type": "markdown",
   "metadata": {},
   "source": [
    "## Comportement des programmes"
   ]
  },
  {
   "cell_type": "markdown",
   "metadata": {},
   "source": [
    "Nous allons voir deux types de comportements pour nos programmes que j'appelerai **standard** et **humain** respectivement.\n",
    "Le **comportement standard** est un comportement où chaque programme fait ses propositions sans tenir compte de celle des autres alors que avec le **comportement humain** chaque programme fait sa proposition en tenant compte de celle des autres.\n",
    "Nous allons effectuer plusieurs parties (100,  1000, 10000) et observer les résultats pour chaque comportement."
   ]
  },
  {
   "cell_type": "markdown",
   "metadata": {},
   "source": [
    "## 1. Standard\n",
    "Dans ce mode, nos programmes jouent indépendamment l'un de l'autre, je pourrai considérer que c'est un système-pseudo isolé si j'étais en physique; cela pour dire que c'est comme si chaque programme jouer sa partie de son côté. Cette situation correspond donc à une partie en solo comme dans [le juste prix](https://fr.wikipedia.org/wiki/Le_Juste_Prix)"
   ]
  },
  {
   "cell_type": "code",
   "execution_count": 3,
   "metadata": {},
   "outputs": [
    {
     "name": "stdout",
     "output_type": "stream",
     "text": [
      "Sur 100 parties, le programmes dichotomie à gagner 52 fois avec un taux de: 52 %\n",
      "Sur 100 parties, le programmes aleatoire à gagner 48 fois avec un taux de: 48 %\n"
     ]
    },
    {
     "data": {
      "image/png": "[encoded data removed]",
      "text/plain": [
       "<Figure size 432x288 with 1 Axes>"
      ]
     },
     "metadata": {
      "needs_background": "light"
     },
     "output_type": "display_data"
    }
   ],
   "source": [
    "for i in range(100):\n",
    "    gagnant = play_game(Reflexion.STANDARD, *programmes)\n",
    "    for j in range(n):\n",
    "        if j == gagnant:\n",
    "            report[j].append(1)\n",
    "        else:\n",
    "            report[j].append(0)\n",
    "total = sum(report[0])\n",
    "print(\"Sur 100 parties, le programmes dichotomie à gagner\", total,\"fois\", \"avec un taux de:\", total, \"%\")\n",
    "total1 = sum(report[1])\n",
    "print(\"Sur 100 parties, le programmes aleatoire à gagner\", sum(report[1]),\"fois\", \"avec un taux de:\", total1, \"%\") \n",
    "plot = plt.bar([1,2],[total, total1], \n",
    "        tick_label=[\"dichotomie\",\"aléatoire\"])\n",
    "\n",
    "#réinitialisation de la table pour d'autres tests\n",
    "report = []\n",
    "for i in range(n):\n",
    "    report.append([])"
   ]
  },
  {
   "cell_type": "code",
   "execution_count": 4,
   "metadata": {},
   "outputs": [
    {
     "name": "stdout",
     "output_type": "stream",
     "text": [
      "Sur 1000 parties, le programmes dichotomie à gagner 474 fois avec un taux de: 47.4 %\n",
      "Sur 1000 parties, le programmes aleatoire à gagner 526 fois avec un taux de: 52.6 %\n"
     ]
    },
    {
     "data": {
      "image/png": "[encoded data removed]",
      "text/plain": [
       "<Figure size 432x288 with 1 Axes>"
      ]
     },
     "metadata": {
      "needs_background": "light"
     },
     "output_type": "display_data"
    }
   ],
   "source": [
    "for i in range(1000):\n",
    "    gagnant = play_game(Reflexion.STANDARD, *programmes)\n",
    "    for j in range(n):\n",
    "        if j == gagnant:\n",
    "            report[j].append(1)\n",
    "        else:\n",
    "            report[j].append(0)\n",
    "\n",
    "total = sum(report[0])\n",
    "print(\"Sur 1000 parties, le programmes dichotomie à gagner\", total,\"fois\", \"avec un taux de:\", total/10, \"%\")\n",
    "total1 = sum(report[1])\n",
    "print(\"Sur 1000 parties, le programmes aleatoire à gagner\", sum(report[1]),\"fois\", \"avec un taux de:\", total1/10, \"%\") \n",
    "\n",
    "plot = plt.bar([1,2],[total, total1], \n",
    "        tick_label=[\"dichotomie\",\"aléatoire\"])\n",
    "\n",
    "#réinitialisation de la table pour d'autres tests\n",
    "report = []\n",
    "for i in range(n):\n",
    "    report.append([])"
   ]
  },
  {
   "cell_type": "code",
   "execution_count": 5,
   "metadata": {},
   "outputs": [
    {
     "name": "stdout",
     "output_type": "stream",
     "text": [
      "Sur 10000 parties, le programmes dichotomie à gagner 4725 fois avec un taux de: 47.25 %\n",
      "Sur 10000 parties, le programmes aleatoire à gagner 5275 fois avec un taux de: 52.75 %\n"
     ]
    },
    {
     "data": {
      "image/png": "[encoded data removed]",
      "text/plain": [
       "<Figure size 432x288 with 1 Axes>"
      ]
     },
     "metadata": {
      "needs_background": "light"
     },
     "output_type": "display_data"
    }
   ],
   "source": [
    "for i in range(10000):\n",
    "    gagnant = play_game(Reflexion.STANDARD, *programmes)\n",
    "    for j in range(n):\n",
    "        if j == gagnant:\n",
    "            report[j].append(1)\n",
    "        else:\n",
    "            report[j].append(0)\n",
    "\n",
    "total = sum(report[0])\n",
    "print(\"Sur 10000 parties, le programmes dichotomie à gagner\", total,\"fois\", \"avec un taux de:\", total/100, \"%\")\n",
    "total1 = sum(report[1])\n",
    "print(\"Sur 10000 parties, le programmes aleatoire à gagner\", sum(report[1]),\"fois\", \"avec un taux de:\", total1/100, \"%\")\n",
    "\n",
    "plot = plt.bar([1,2],[total, total1], \n",
    "        tick_label=[\"dichotomie\",\"aléatoire\"])\n",
    "\n",
    "\n",
    "#réinitialisation de la table pour d'autres tests\n",
    "report = []\n",
    "for i in range(n):\n",
    "    report.append([])"
   ]
  },
  {
   "cell_type": "code",
   "execution_count": 6,
   "metadata": {},
   "outputs": [
    {
     "name": "stdout",
     "output_type": "stream",
     "text": [
      "Sur 100000 parties, le programmes dichotomie à gagner 47291 fois avec un taux de: 47.291 %\n",
      "Sur 100000 parties, le programmes aleatoire à gagner 52709 fois avec un taux de: 52.709 %\n"
     ]
    },
    {
     "data": {
      "image/png": "[encoded data removed]",
      "text/plain": [
       "<Figure size 432x288 with 1 Axes>"
      ]
     },
     "metadata": {
      "needs_background": "light"
     },
     "output_type": "display_data"
    }
   ],
   "source": [
    "for i in range(100000):\n",
    "    gagnant = play_game(Reflexion.STANDARD, *programmes)\n",
    "    for j in range(n):\n",
    "        if j == gagnant:\n",
    "            report[j].append(1)\n",
    "        else:\n",
    "            report[j].append(0)\n",
    "\n",
    "total = sum(report[0])\n",
    "print(\"Sur 100000 parties, le programmes dichotomie à gagner\", total,\"fois\", \"avec un taux de:\", total/1000, \"%\")\n",
    "total1 = sum(report[1])\n",
    "print(\"Sur 100000 parties, le programmes aleatoire à gagner\", sum(report[1]),\"fois\", \"avec un taux de:\", total1/1000, \"%\") \n",
    "\n",
    "plot = plt.bar([1,2],[total, total1], \n",
    "        tick_label=[\"dichotomie\",\"aléatoire\"])\n",
    "\n",
    "#réinitialisation de la table pour d'autres tests\n",
    "report = []\n",
    "for i in range(n):\n",
    "    report.append([])"
   ]
  },
  {
   "cell_type": "markdown",
   "metadata": {},
   "source": [
    "On constate qu'en dessous des 10000 parties qu'il arrive des cas où la méthode par dichotomie ait plus de victoire que celle aléatoire, mais la méthode aléatoire reste gagnante en générale. au dessus des 10000 parties la méSithode aléeatoire reste toujours gagnante.\n",
    "Si vous comptez donc jouer très peu de parties de plus ou moins (à une émission télé par exemple) n'hésiter pas à opter pour la méthode dichotomie. Par compte si vous comptez faire énormement de parties (désolé, j'ai aucun exemple pour le moment), la méthode aléatoire est la meilleure pour vous."
   ]
  },
  {
   "cell_type": "markdown",
   "metadata": {},
   "source": [
    "## 2. Humain\n",
    "Dans ce mode chaque programme joue en considérants les propositions des autres programmes, cela correspond à une parties à une plusieurs. Plusieurs candidats doivent trouver un même mot mystère tout en faisant des propositions chacun à son tour.\n",
    "Ce serait bête de ne pas considérer le jeu de l'autre."
   ]
  },
  {
   "cell_type": "code",
   "execution_count": 7,
   "metadata": {},
   "outputs": [
    {
     "name": "stdout",
     "output_type": "stream",
     "text": [
      "Sur 100 parties, le programmes dichotomie à gagner 70 fois avec un taux de: 70 %\n",
      "Sur 100 parties, le programmes aleatoire à gagner 30 fois avec un taux de: 30 %\n"
     ]
    },
    {
     "data": {
      "image/png": "[encoded data removed]",
      "text/plain": [
       "<Figure size 432x288 with 1 Axes>"
      ]
     },
     "metadata": {
      "needs_background": "light"
     },
     "output_type": "display_data"
    }
   ],
   "source": [
    "for i in range(100):\n",
    "    gagnant = play_game(Reflexion.HUMAN, *programmes)\n",
    "    for j in range(n):\n",
    "        if j == gagnant:\n",
    "            report[j].append(1)\n",
    "        else:\n",
    "            report[j].append(0)\n",
    "total = sum(report[0])\n",
    "print(\"Sur 100 parties, le programmes dichotomie à gagner\", total,\"fois\", \"avec un taux de:\", total, \"%\")\n",
    "total1 = sum(report[1])\n",
    "print(\"Sur 100 parties, le programmes aleatoire à gagner\", sum(report[1]),\"fois\", \"avec un taux de:\", total1, \"%\") \n",
    "plot = plt.bar([1,2],[total, total1], \n",
    "        tick_label=[\"dichotomie\",\"aléatoire\"])\n",
    "\n",
    "#réinitialisation de la table pour d'autres tests\n",
    "report = []\n",
    "for i in range(n):\n",
    "    report.append([])"
   ]
  },
  {
   "cell_type": "code",
   "execution_count": 8,
   "metadata": {},
   "outputs": [
    {
     "name": "stdout",
     "output_type": "stream",
     "text": [
      "Sur 1000 parties, le programmes dichotomie à gagner 677 fois avec un taux de: 67.7 %\n",
      "Sur 1000 parties, le programmes aleatoire à gagner 323 fois avec un taux de: 32.3 %\n"
     ]
    },
    {
     "data": {
      "image/png": "[encoded data removed]",
      "text/plain": [
       "<Figure size 432x288 with 1 Axes>"
      ]
     },
     "metadata": {
      "needs_background": "light"
     },
     "output_type": "display_data"
    }
   ],
   "source": [
    "for i in range(1000):\n",
    "    gagnant = play_game(Reflexion.HUMAN, *programmes)\n",
    "    for j in range(n):\n",
    "        if j == gagnant:\n",
    "            report[j].append(1)\n",
    "        else:\n",
    "            report[j].append(0)\n",
    "\n",
    "total = sum(report[0])\n",
    "print(\"Sur 1000 parties, le programmes dichotomie à gagner\", total,\"fois\", \"avec un taux de:\", total/10, \"%\")\n",
    "total1 = sum(report[1])\n",
    "print(\"Sur 1000 parties, le programmes aleatoire à gagner\", sum(report[1]),\"fois\", \"avec un taux de:\", total1/10, \"%\") \n",
    "\n",
    "plot = plt.bar([1,2],[total, total1], \n",
    "        tick_label=[\"dichotomie\",\"aléatoire\"])\n",
    "\n",
    "#réinitialisation de la table pour d'autres tests\n",
    "report = []\n",
    "for i in range(n):\n",
    "    report.append([])"
   ]
  },
  {
   "cell_type": "code",
   "execution_count": 9,
   "metadata": {},
   "outputs": [
    {
     "name": "stdout",
     "output_type": "stream",
     "text": [
      "Sur 10000 parties, le programmes dichotomie à gagner 6671 fois avec un taux de: 66.71 %\n",
      "Sur 10000 parties, le programmes aleatoire à gagner 3329 fois avec un taux de: 33.29 %\n"
     ]
    },
    {
     "data": {
      "image/png": "[encoded data removed]",
      "text/plain": [
       "<Figure size 432x288 with 1 Axes>"
      ]
     },
     "metadata": {
      "needs_background": "light"
     },
     "output_type": "display_data"
    }
   ],
   "source": [
    "for i in range(10000):\n",
    "    gagnant = play_game(Reflexion.HUMAN, *programmes)\n",
    "    for j in range(n):\n",
    "        if j == gagnant:\n",
    "            report[j].append(1)\n",
    "        else:\n",
    "            report[j].append(0)\n",
    "\n",
    "total = sum(report[0])\n",
    "print(\"Sur 10000 parties, le programmes dichotomie à gagner\", total,\"fois\", \"avec un taux de:\", total/100, \"%\")\n",
    "total1 = sum(report[1])\n",
    "print(\"Sur 10000 parties, le programmes aleatoire à gagner\", sum(report[1]),\"fois\", \"avec un taux de:\", total1/100, \"%\")\n",
    "\n",
    "plot = plt.bar([1,2],[total, total1], \n",
    "        tick_label=[\"dichotomie\",\"aléatoire\"])\n",
    "\n",
    "\n",
    "#réinitialisation de la table pour d'autres tests\n",
    "report = []\n",
    "for i in range(n):\n",
    "    report.append([])"
   ]
  },
  {
   "cell_type": "code",
   "execution_count": 10,
   "metadata": {},
   "outputs": [
    {
     "name": "stdout",
     "output_type": "stream",
     "text": [
      "Sur 100000 parties, le programmes dichotomie à gagner 66761 fois avec un taux de: 66.761 %\n",
      "Sur 100000 parties, le programmes aleatoire à gagner 33239 fois avec un taux de: 33.239 %\n"
     ]
    },
    {
     "data": {
      "image/png": "[encoded data removed]",
      "text/plain": [
       "<Figure size 432x288 with 1 Axes>"
      ]
     },
     "metadata": {
      "needs_background": "light"
     },
     "output_type": "display_data"
    }
   ],
   "source": [
    "for i in range(100000):\n",
    "    gagnant = play_game(Reflexion.HUMAN, *programmes)\n",
    "    for j in range(n):\n",
    "        if j == gagnant:\n",
    "            report[j].append(1)\n",
    "        else:\n",
    "            report[j].append(0)\n",
    "\n",
    "total = sum(report[0])\n",
    "print(\"Sur 100000 parties, le programmes dichotomie à gagner\", total,\"fois\", \"avec un taux de:\", total/1000, \"%\")\n",
    "total1 = sum(report[1])\n",
    "print(\"Sur 100000 parties, le programmes aleatoire à gagner\", sum(report[1]),\"fois\", \"avec un taux de:\", total1/1000, \"%\") \n",
    "\n",
    "plot = plt.bar([1,2],[total, total1], \n",
    "        tick_label=[\"dichotomie\",\"aléatoire\"])\n",
    "\n",
    "#réinitialisation de la table pour d'autres tests\n",
    "report = []\n",
    "for i in range(n):\n",
    "    report.append([])"
   ]
  },
  {
   "cell_type": "markdown",
   "metadata": {},
   "source": [
    " On constate que cette fois la méthode de dichotomie écrase la méthode aléatoire sur près de  deux tiers des parties jouées; c'est à dire qu'on a deux victoires pour 3 parties quand on applique la dichotoie.\n",
    " Si vous faites donc une partie à plusieurs, la méthode dichotomie reste ton meilleur allié."
   ]
  },
  {
   "cell_type": "markdown",
   "metadata": {},
   "source": [
    "## Cnclusion"
   ]
  },
  {
   "cell_type": "raw",
   "metadata": {},
   "source": [
    "La méthode aléatoire est vraiment pratique quand on joue seul et qu'on a énormément de parties à faire, par contre si on à peu de parties à faire mieux vaut opter pour la méthode dichotomie.\n",
    "La méthode dichotomie est la meilleure méthode quand on joue à plusieurs et ceux peu importe le nombre de parties qu'on fera.\n",
    "La méthode dichotomie est préférable à utiliser dans la majorité des cas.\n",
    "On voit également qu'on a plus devictoire quand on considère le choix des autres (je n'ai pas voulus faire les tests pour cela car ça m'avais l'air trop évident).\n",
    "Pour la suite de ce travail je vais m'intéressé au cas pratique dans la vie quoditien du jeu du plus ou moins.\n",
    "\n",
    "Je vous remercie d'avoir pris un peu de votre temps pour lire mon travail, j'espère qu'il vous a plu et satisfait et que vous serez intereser par mes autres travaux.\n"
   ]
  },
  {
   "cell_type": "code",
   "execution_count": null,
   "metadata": {},
   "outputs": [],
   "source": []
  }
 ],
 "metadata": {
  "kernelspec": {
   "display_name": "Python 3",
   "language": "python",
   "name": "python3"
  },
  "language_info": {
   "codemirror_mode": {
    "name": "ipython",
    "version": 3
   },
   "file_extension": ".py",
   "mimetype": "text/x-python",
   "name": "python",
   "nbconvert_exporter": "python",
   "pygments_lexer": "ipython3",
   "version": "3.7.3"
  }
 },
 "nbformat": 4,
 "nbformat_minor": 2
}
